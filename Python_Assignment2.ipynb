{
  "nbformat": 4,
  "nbformat_minor": 0,
  "metadata": {
    "colab": {
      "name": "Python Assignment2.ipynb",
      "provenance": []
    },
    "kernelspec": {
      "name": "python3",
      "display_name": "Python 3"
    }
  },
  "cells": [
    {
      "cell_type": "markdown",
      "metadata": {
        "id": "UmYhKKEcchSj",
        "colab_type": "text"
      },
      "source": [
        "Q1 Create the below pattern using nested for loop in python"
      ]
    },
    {
      "cell_type": "code",
      "metadata": {
        "id": "SLoMJhbxcc5p",
        "colab_type": "code",
        "colab": {
          "base_uri": "https://localhost:8080/",
          "height": 364
        },
        "outputId": "3abc05c7-8789-4bbf-dd18-eed99784e94a"
      },
      "source": [
        "for i in range(6):\n",
        "  for j in range(i):\n",
        "    print(\"* \",end=\" \")\n",
        "  print(\"\\n\")\n",
        "for k in range(4):\n",
        "  for l in range(4-k):\n",
        "    print(\"* \",end=\" \")\n",
        "  print(\"\\n\")"
      ],
      "execution_count": 10,
      "outputs": [
        {
          "output_type": "stream",
          "text": [
            "\n",
            "\n",
            "*  \n",
            "\n",
            "*  *  \n",
            "\n",
            "*  *  *  \n",
            "\n",
            "*  *  *  *  \n",
            "\n",
            "*  *  *  *  *  \n",
            "\n",
            "*  *  *  *  \n",
            "\n",
            "*  *  *  \n",
            "\n",
            "*  *  \n",
            "\n",
            "*  \n",
            "\n"
          ],
          "name": "stdout"
        }
      ]
    },
    {
      "cell_type": "markdown",
      "metadata": {
        "id": "dWttVgjUf4yA",
        "colab_type": "text"
      },
      "source": [
        "Q2 WAP to reverse a word after accepting the input from the user"
      ]
    },
    {
      "cell_type": "markdown",
      "metadata": {
        "id": "rr6rzroOf4u9",
        "colab_type": "text"
      },
      "source": [
        ""
      ]
    },
    {
      "cell_type": "code",
      "metadata": {
        "id": "u8QjnlGNdLnT",
        "colab_type": "code",
        "colab": {
          "base_uri": "https://localhost:8080/",
          "height": 52
        },
        "outputId": "e207708a-42c4-4154-9600-dbb7cd9e2c1d"
      },
      "source": [
        "word = input(\"Enter the word \")\n",
        "lword=list(word)\n",
        "for i in range(len(lword)-1,-1,-1):\n",
        "  print(lword[i],end=\"\")"
      ],
      "execution_count": 16,
      "outputs": [
        {
          "output_type": "stream",
          "text": [
            "Enter the word ineuron\n",
            "norueni"
          ],
          "name": "stdout"
        }
      ]
    }
  ]
}