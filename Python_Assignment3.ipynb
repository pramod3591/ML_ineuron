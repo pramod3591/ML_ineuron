{
  "nbformat": 4,
  "nbformat_minor": 0,
  "metadata": {
    "colab": {
      "name": "Python Assignment3.ipynb",
      "provenance": []
    },
    "kernelspec": {
      "name": "python3",
      "display_name": "Python 3"
    }
  },
  "cells": [
    {
      "cell_type": "code",
      "metadata": {
        "id": "MmtQ62R8mJUY",
        "colab_type": "code",
        "colab": {}
      },
      "source": [
        "import functools \n",
        "lis = [1, 2, 3, 4, 5]"
      ],
      "execution_count": 0,
      "outputs": []
    },
    {
      "cell_type": "code",
      "metadata": {
        "id": "jZTukO0IkVT4",
        "colab_type": "code",
        "colab": {
          "base_uri": "https://localhost:8080/",
          "height": 52
        },
        "outputId": "46f322c1-4571-4709-f607-737607063ec4"
      },
      "source": [
        "def my_reduce(func, lis):\n",
        "  print(func)\n",
        "  result = lis[0]\n",
        "  for i in range(1,len(lis)):\n",
        "    result = func(result, lis[i])\n",
        "  return result\n",
        "\n",
        "my_reduce(lambda a,b : a+b,lis)"
      ],
      "execution_count": 15,
      "outputs": [
        {
          "output_type": "stream",
          "text": [
            "<function <lambda> at 0x7fd9c00fcea0>\n"
          ],
          "name": "stdout"
        },
        {
          "output_type": "execute_result",
          "data": {
            "text/plain": [
              "15"
            ]
          },
          "metadata": {
            "tags": []
          },
          "execution_count": 15
        }
      ]
    },
    {
      "cell_type": "code",
      "metadata": {
        "id": "oBHEZpz5sp0G",
        "colab_type": "code",
        "colab": {
          "base_uri": "https://localhost:8080/",
          "height": 87
        },
        "outputId": "2b0496cb-60cc-465c-c30c-883dd3d3a08e"
      },
      "source": [
        "age = [5, 12, 19, 18, 24, 32]\n",
        "\n",
        "def myFunc(x):\n",
        "  if x < 18:\n",
        "    return False\n",
        "  else:\n",
        "    return True\n",
        "\n",
        "def my_filter(func,lis):\n",
        "  adults = []\n",
        "  for i in range(len(lis)):\n",
        "    bool = myFunc(lis[i])\n",
        "    if(bool):\n",
        "      adults.append(lis[i])\n",
        "  return adults\n",
        "\n",
        "adult = my_filter(myFunc, age)\n",
        "for x in adult:\n",
        "  print(x)"
      ],
      "execution_count": 33,
      "outputs": [
        {
          "output_type": "stream",
          "text": [
            "19\n",
            "18\n",
            "24\n",
            "32\n"
          ],
          "name": "stdout"
        }
      ]
    }
  ]
}